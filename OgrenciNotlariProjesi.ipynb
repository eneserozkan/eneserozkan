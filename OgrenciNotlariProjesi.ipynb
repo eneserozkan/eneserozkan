{
  "cells": [
    {
      "cell_type": "markdown",
      "metadata": {
        "id": "view-in-github",
        "colab_type": "text"
      },
      "source": [
        "<a href=\"https://colab.research.google.com/github/eneserozkan/eneserozkan/blob/main/OgrenciNotlariProjesi.ipynb\" target=\"_parent\"><img src=\"https://colab.research.google.com/assets/colab-badge.svg\" alt=\"Open In Colab\"/></a>"
      ]
    },
    {
      "cell_type": "code",
      "execution_count": null,
      "id": "c97d1c0c",
      "metadata": {
        "id": "c97d1c0c"
      },
      "outputs": [],
      "source": [
        "import pandas as pd\n",
        "\n",
        "df = pd.DataFrame(columns = [\"Ad\",\"Soyad\",\"Okul No\",\"Ders\",\"Vize\",\"Final\",\"Ortalama\",\"Harf Puanı\",\"Ders Durumu\"])"
      ]
    },
    {
      "cell_type": "code",
      "execution_count": null,
      "id": "5e3b9e17",
      "metadata": {
        "id": "5e3b9e17"
      },
      "outputs": [],
      "source": [
        "def HarfPuanı(sınav_puanı):\n",
        "    result = \"\"\n",
        "    if(90<=sınav_puanı<=100):\n",
        "        result = \"AA\"\n",
        "    elif(80<=sınav_puanı<90):\n",
        "        result = \"AB\"\n",
        "    elif(70<=sınav_puanı<80):\n",
        "        result = \"BB\"\n",
        "    elif(60<=sınav_puanı<70):\n",
        "        result = \"CC\"\n",
        "    elif(50<=sınav_puanı<60):\n",
        "        result = \"DD\"\n",
        "    elif(0<=sınav_puanı<50):\n",
        "        result = \"FF\"\n",
        "    else:\n",
        "        result = \"\"\n",
        "    return result\n",
        "\n",
        "def DersDurumu(sınav_puanı):\n",
        "    result = \"\"\n",
        "    if(sınav_puanı>=50):\n",
        "        result = \"Geçti\"\n",
        "        \n",
        "    elif(0<=sınav_puanı<50):\n",
        "        result = \"Kaldı\"\n",
        "        \n",
        "    else:\n",
        "        result = \"\"\n",
        "        \n",
        "    return result\n"
      ]
    },
    {
      "cell_type": "code",
      "execution_count": null,
      "id": "71be76d1",
      "metadata": {
        "colab": {
          "base_uri": "https://localhost:8080/"
        },
        "id": "71be76d1",
        "outputId": "d7d27745-1a29-40a9-c522-f3eebe70cdce"
      },
      "outputs": [
        {
          "name": "stdout",
          "output_type": "stream",
          "text": [
            "Adı gir(Çıkış için q`ye bas)Mustafa\n",
            "Soyadı girCan\n",
            "Okul No gir213\n",
            "Dersi girmatematik\n",
            "Vize Notunu Gir45\n",
            "Final Notunu Gir80\n",
            "Adı gir(Çıkış için q`ye bas)q\n"
          ]
        }
      ],
      "source": [
        "while True:\n",
        "    \n",
        "    ad = input(\"Adı gir(Çıkış için q`ye bas)\")\n",
        "    if ad == \"q\":\n",
        "        df.to_csv(\"OgrenciNotlari.csv\")\n",
        "        break\n",
        "    soyad = input(\"Soyadı gir\")\n",
        "    okul_no = input(\"Okul No gir\")\n",
        "    ders = input(\"Dersi gir\")\n",
        "    vize = int(input(\"Vize Notunu Gir\"))\n",
        "    final = int(input(\"Final Notunu Gir\"))\n",
        "    ortalama = vize*(0.4) + final*(0.6)\n",
        "    harf = HarfPuanı(ortalama)\n",
        "    ders_durumu = DersDurumu(ortalama)\n",
        "    \n",
        "    \n",
        "    dictionary = {}\n",
        "    bilgiler = list(df.columns)\n",
        "    liste = [ad,soyad,okul_no,ders,vize,final,ortalama,harf,ders_durumu]\n",
        "    for i in range(len(liste)):\n",
        "        dictionary[bilgiler[i]] = liste[i]\n",
        "    df = df.append(dictionary,ignore_index = True)"
      ]
    },
    {
      "cell_type": "code",
      "execution_count": null,
      "id": "1880d983",
      "metadata": {
        "colab": {
          "base_uri": "https://localhost:8080/",
          "height": 81
        },
        "id": "1880d983",
        "outputId": "7f5b235a-7a6e-47ac-f0f5-1ec929711cfc"
      },
      "outputs": [
        {
          "output_type": "execute_result",
          "data": {
            "text/plain": [
              "        Ad Soyad Okul No       Ders Vize Final  Ortalama Harf Puanı  \\\n",
              "0  Mustafa   Can     213  matematik   45    80      66.0         CC   \n",
              "\n",
              "  Ders Durumu  \n",
              "0       Geçti  "
            ],
            "text/html": [
              "\n",
              "  <div id=\"df-5361c8ce-4fed-47fe-b3dd-01cb392b8ffe\">\n",
              "    <div class=\"colab-df-container\">\n",
              "      <div>\n",
              "<style scoped>\n",
              "    .dataframe tbody tr th:only-of-type {\n",
              "        vertical-align: middle;\n",
              "    }\n",
              "\n",
              "    .dataframe tbody tr th {\n",
              "        vertical-align: top;\n",
              "    }\n",
              "\n",
              "    .dataframe thead th {\n",
              "        text-align: right;\n",
              "    }\n",
              "</style>\n",
              "<table border=\"1\" class=\"dataframe\">\n",
              "  <thead>\n",
              "    <tr style=\"text-align: right;\">\n",
              "      <th></th>\n",
              "      <th>Ad</th>\n",
              "      <th>Soyad</th>\n",
              "      <th>Okul No</th>\n",
              "      <th>Ders</th>\n",
              "      <th>Vize</th>\n",
              "      <th>Final</th>\n",
              "      <th>Ortalama</th>\n",
              "      <th>Harf Puanı</th>\n",
              "      <th>Ders Durumu</th>\n",
              "    </tr>\n",
              "  </thead>\n",
              "  <tbody>\n",
              "    <tr>\n",
              "      <th>0</th>\n",
              "      <td>Mustafa</td>\n",
              "      <td>Can</td>\n",
              "      <td>213</td>\n",
              "      <td>matematik</td>\n",
              "      <td>45</td>\n",
              "      <td>80</td>\n",
              "      <td>66.0</td>\n",
              "      <td>CC</td>\n",
              "      <td>Geçti</td>\n",
              "    </tr>\n",
              "  </tbody>\n",
              "</table>\n",
              "</div>\n",
              "      <button class=\"colab-df-convert\" onclick=\"convertToInteractive('df-5361c8ce-4fed-47fe-b3dd-01cb392b8ffe')\"\n",
              "              title=\"Convert this dataframe to an interactive table.\"\n",
              "              style=\"display:none;\">\n",
              "        \n",
              "  <svg xmlns=\"http://www.w3.org/2000/svg\" height=\"24px\"viewBox=\"0 0 24 24\"\n",
              "       width=\"24px\">\n",
              "    <path d=\"M0 0h24v24H0V0z\" fill=\"none\"/>\n",
              "    <path d=\"M18.56 5.44l.94 2.06.94-2.06 2.06-.94-2.06-.94-.94-2.06-.94 2.06-2.06.94zm-11 1L8.5 8.5l.94-2.06 2.06-.94-2.06-.94L8.5 2.5l-.94 2.06-2.06.94zm10 10l.94 2.06.94-2.06 2.06-.94-2.06-.94-.94-2.06-.94 2.06-2.06.94z\"/><path d=\"M17.41 7.96l-1.37-1.37c-.4-.4-.92-.59-1.43-.59-.52 0-1.04.2-1.43.59L10.3 9.45l-7.72 7.72c-.78.78-.78 2.05 0 2.83L4 21.41c.39.39.9.59 1.41.59.51 0 1.02-.2 1.41-.59l7.78-7.78 2.81-2.81c.8-.78.8-2.07 0-2.86zM5.41 20L4 18.59l7.72-7.72 1.47 1.35L5.41 20z\"/>\n",
              "  </svg>\n",
              "      </button>\n",
              "      \n",
              "  <style>\n",
              "    .colab-df-container {\n",
              "      display:flex;\n",
              "      flex-wrap:wrap;\n",
              "      gap: 12px;\n",
              "    }\n",
              "\n",
              "    .colab-df-convert {\n",
              "      background-color: #E8F0FE;\n",
              "      border: none;\n",
              "      border-radius: 50%;\n",
              "      cursor: pointer;\n",
              "      display: none;\n",
              "      fill: #1967D2;\n",
              "      height: 32px;\n",
              "      padding: 0 0 0 0;\n",
              "      width: 32px;\n",
              "    }\n",
              "\n",
              "    .colab-df-convert:hover {\n",
              "      background-color: #E2EBFA;\n",
              "      box-shadow: 0px 1px 2px rgba(60, 64, 67, 0.3), 0px 1px 3px 1px rgba(60, 64, 67, 0.15);\n",
              "      fill: #174EA6;\n",
              "    }\n",
              "\n",
              "    [theme=dark] .colab-df-convert {\n",
              "      background-color: #3B4455;\n",
              "      fill: #D2E3FC;\n",
              "    }\n",
              "\n",
              "    [theme=dark] .colab-df-convert:hover {\n",
              "      background-color: #434B5C;\n",
              "      box-shadow: 0px 1px 3px 1px rgba(0, 0, 0, 0.15);\n",
              "      filter: drop-shadow(0px 1px 2px rgba(0, 0, 0, 0.3));\n",
              "      fill: #FFFFFF;\n",
              "    }\n",
              "  </style>\n",
              "\n",
              "      <script>\n",
              "        const buttonEl =\n",
              "          document.querySelector('#df-5361c8ce-4fed-47fe-b3dd-01cb392b8ffe button.colab-df-convert');\n",
              "        buttonEl.style.display =\n",
              "          google.colab.kernel.accessAllowed ? 'block' : 'none';\n",
              "\n",
              "        async function convertToInteractive(key) {\n",
              "          const element = document.querySelector('#df-5361c8ce-4fed-47fe-b3dd-01cb392b8ffe');\n",
              "          const dataTable =\n",
              "            await google.colab.kernel.invokeFunction('convertToInteractive',\n",
              "                                                     [key], {});\n",
              "          if (!dataTable) return;\n",
              "\n",
              "          const docLinkHtml = 'Like what you see? Visit the ' +\n",
              "            '<a target=\"_blank\" href=https://colab.research.google.com/notebooks/data_table.ipynb>data table notebook</a>'\n",
              "            + ' to learn more about interactive tables.';\n",
              "          element.innerHTML = '';\n",
              "          dataTable['output_type'] = 'display_data';\n",
              "          await google.colab.output.renderOutput(dataTable, element);\n",
              "          const docLink = document.createElement('div');\n",
              "          docLink.innerHTML = docLinkHtml;\n",
              "          element.appendChild(docLink);\n",
              "        }\n",
              "      </script>\n",
              "    </div>\n",
              "  </div>\n",
              "  "
            ]
          },
          "metadata": {},
          "execution_count": 5
        }
      ],
      "source": [
        "df"
      ]
    },
    {
      "cell_type": "code",
      "execution_count": null,
      "id": "37d9e74d",
      "metadata": {
        "id": "37d9e74d"
      },
      "outputs": [],
      "source": []
    },
    {
      "cell_type": "code",
      "execution_count": null,
      "id": "634fb15c",
      "metadata": {
        "id": "634fb15c"
      },
      "outputs": [],
      "source": []
    },
    {
      "cell_type": "code",
      "execution_count": null,
      "id": "a32c0ed7",
      "metadata": {
        "id": "a32c0ed7"
      },
      "outputs": [],
      "source": []
    }
  ],
  "metadata": {
    "kernelspec": {
      "display_name": "Python 3 (ipykernel)",
      "language": "python",
      "name": "python3"
    },
    "language_info": {
      "codemirror_mode": {
        "name": "ipython",
        "version": 3
      },
      "file_extension": ".py",
      "mimetype": "text/x-python",
      "name": "python",
      "nbconvert_exporter": "python",
      "pygments_lexer": "ipython3",
      "version": "3.10.3"
    },
    "colab": {
      "provenance": [],
      "include_colab_link": true
    }
  },
  "nbformat": 4,
  "nbformat_minor": 5
}